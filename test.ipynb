{
 "cells": [
  {
   "cell_type": "code",
   "execution_count": 1,
   "metadata": {},
   "outputs": [],
   "source": [
    "import yfinance as yf\n",
    "import pandas as pd"
   ]
  },
  {
   "cell_type": "code",
   "execution_count": 2,
   "metadata": {},
   "outputs": [],
   "source": [
    "from main import *"
   ]
  },
  {
   "cell_type": "code",
   "execution_count": 3,
   "metadata": {},
   "outputs": [],
   "source": [
    "def get_data(ticker):\n",
    "    data = yf.download(ticker)\n",
    "    return data"
   ]
  },
  {
   "cell_type": "code",
   "execution_count": 4,
   "metadata": {},
   "outputs": [
    {
     "name": "stdout",
     "output_type": "stream",
     "text": [
      "[*********************100%***********************]  1 of 1 completed\n"
     ]
    }
   ],
   "source": [
    "data = get_data(\"CIPLA.NS\")"
   ]
  },
  {
   "cell_type": "code",
   "execution_count": null,
   "metadata": {},
   "outputs": [],
   "source": []
  },
  {
   "cell_type": "code",
   "execution_count": 26,
   "metadata": {},
   "outputs": [
    {
     "data": {
      "text/html": [
       "<div>\n",
       "<style scoped>\n",
       "    .dataframe tbody tr th:only-of-type {\n",
       "        vertical-align: middle;\n",
       "    }\n",
       "\n",
       "    .dataframe tbody tr th {\n",
       "        vertical-align: top;\n",
       "    }\n",
       "\n",
       "    .dataframe thead th {\n",
       "        text-align: right;\n",
       "    }\n",
       "</style>\n",
       "<table border=\"1\" class=\"dataframe\">\n",
       "  <thead>\n",
       "    <tr style=\"text-align: right;\">\n",
       "      <th></th>\n",
       "      <th>Open</th>\n",
       "      <th>High</th>\n",
       "      <th>Low</th>\n",
       "      <th>Close</th>\n",
       "      <th>Adj Close</th>\n",
       "      <th>Volume</th>\n",
       "    </tr>\n",
       "  </thead>\n",
       "  <tbody>\n",
       "    <tr>\n",
       "      <th>2024-06-20</th>\n",
       "      <td>1558.0</td>\n",
       "      <td>1559.150024</td>\n",
       "      <td>1540.000000</td>\n",
       "      <td>1544.849976</td>\n",
       "      <td>1544.849976</td>\n",
       "      <td>1705000</td>\n",
       "    </tr>\n",
       "    <tr>\n",
       "      <th>2024-04-01</th>\n",
       "      <td>1510.0</td>\n",
       "      <td>1510.000000</td>\n",
       "      <td>1493.800049</td>\n",
       "      <td>1498.650024</td>\n",
       "      <td>1498.650024</td>\n",
       "      <td>563831</td>\n",
       "    </tr>\n",
       "  </tbody>\n",
       "</table>\n",
       "</div>"
      ],
      "text/plain": [
       "              Open         High          Low        Close    Adj Close  \\\n",
       "2024-06-20  1558.0  1559.150024  1540.000000  1544.849976  1544.849976   \n",
       "2024-04-01  1510.0  1510.000000  1493.800049  1498.650024  1498.650024   \n",
       "\n",
       "             Volume  \n",
       "2024-06-20  1705000  \n",
       "2024-04-01   563831  "
      ]
     },
     "execution_count": 26,
     "metadata": {},
     "output_type": "execute_result"
    }
   ],
   "source": [
    "data.loc[pd.DatetimeIndex(['2024-06-20' , '2024-04-01'])]"
   ]
  },
  {
   "cell_type": "code",
   "execution_count": 44,
   "metadata": {},
   "outputs": [
    {
     "data": {
      "text/plain": [
       "'2004-05-11'"
      ]
     },
     "execution_count": 44,
     "metadata": {},
     "output_type": "execute_result"
    }
   ],
   "source": [
    "data.loc[data['Open'] > 500].index[0]"
   ]
  },
  {
   "cell_type": "code",
   "execution_count": 28,
   "metadata": {},
   "outputs": [
    {
     "data": {
      "text/plain": [
       "DatetimeIndex(['2004-05-11'], dtype='datetime64[ns]', freq=None)"
      ]
     },
     "execution_count": 28,
     "metadata": {},
     "output_type": "execute_result"
    }
   ],
   "source": [
    "data.loc[pd.DatetimeIndex(['2004-05-11'])].index"
   ]
  },
  {
   "cell_type": "code",
   "execution_count": 31,
   "metadata": {},
   "outputs": [],
   "source": [
    "data.index = data.index.astype(str)"
   ]
  },
  {
   "cell_type": "code",
   "execution_count": 51,
   "metadata": {},
   "outputs": [],
   "source": [
    "\n",
    "df = data.loc['2020-05-11':'2020-06-07']"
   ]
  },
  {
   "cell_type": "code",
   "execution_count": 50,
   "metadata": {},
   "outputs": [
    {
     "name": "stdout",
     "output_type": "stream",
     "text": [
      "2025-01-11\n"
     ]
    }
   ],
   "source": [
    "import datetime\n",
    "\n",
    "def get_next_month(date_str):\n",
    "  date_object = datetime.datetime.strptime(date_str, \"%Y-%m-%d\")\n",
    "  next_month = date_object + datetime.timedelta(days = 31) \n",
    "  next_month = next_month.replace(day=min(next_month.day, date_object.day))\n",
    "\n",
    "  next_month_str = next_month.strftime(\"%Y-%m-%d\")\n",
    "\n",
    "  return next_month_str\n",
    "\n",
    "date_str = \"2024-12-11\"\n",
    "next_month_str = get_next_month(date_str)\n",
    "print(next_month_str)"
   ]
  },
  {
   "cell_type": "code",
   "execution_count": 55,
   "metadata": {},
   "outputs": [
    {
     "data": {
      "text/plain": [
       "Open         6.650000e+02\n",
       "High         6.697500e+02\n",
       "Low          6.490000e+02\n",
       "Close        6.509000e+02\n",
       "Adj Close    6.390165e+02\n",
       "Volume       6.481383e+06\n",
       "Name: 2020-06-05, dtype: float64"
      ]
     },
     "execution_count": 55,
     "metadata": {},
     "output_type": "execute_result"
    }
   ],
   "source": [
    "df.iloc[df['High'].argmax()]"
   ]
  },
  {
   "cell_type": "code",
   "execution_count": 54,
   "metadata": {},
   "outputs": [
    {
     "data": {
      "text/html": [
       "<div>\n",
       "<style scoped>\n",
       "    .dataframe tbody tr th:only-of-type {\n",
       "        vertical-align: middle;\n",
       "    }\n",
       "\n",
       "    .dataframe tbody tr th {\n",
       "        vertical-align: top;\n",
       "    }\n",
       "\n",
       "    .dataframe thead th {\n",
       "        text-align: right;\n",
       "    }\n",
       "</style>\n",
       "<table border=\"1\" class=\"dataframe\">\n",
       "  <thead>\n",
       "    <tr style=\"text-align: right;\">\n",
       "      <th></th>\n",
       "      <th>Open</th>\n",
       "      <th>High</th>\n",
       "      <th>Low</th>\n",
       "      <th>Close</th>\n",
       "      <th>Adj Close</th>\n",
       "      <th>Volume</th>\n",
       "    </tr>\n",
       "    <tr>\n",
       "      <th>Date</th>\n",
       "      <th></th>\n",
       "      <th></th>\n",
       "      <th></th>\n",
       "      <th></th>\n",
       "      <th></th>\n",
       "      <th></th>\n",
       "    </tr>\n",
       "  </thead>\n",
       "  <tbody>\n",
       "    <tr>\n",
       "      <th>2020-05-11</th>\n",
       "      <td>600.950012</td>\n",
       "      <td>600.950012</td>\n",
       "      <td>583.450012</td>\n",
       "      <td>586.049988</td>\n",
       "      <td>575.350464</td>\n",
       "      <td>5853892</td>\n",
       "    </tr>\n",
       "    <tr>\n",
       "      <th>2020-05-12</th>\n",
       "      <td>587.000000</td>\n",
       "      <td>593.799988</td>\n",
       "      <td>566.200012</td>\n",
       "      <td>570.150024</td>\n",
       "      <td>559.740784</td>\n",
       "      <td>8868938</td>\n",
       "    </tr>\n",
       "    <tr>\n",
       "      <th>2020-05-13</th>\n",
       "      <td>600.000000</td>\n",
       "      <td>605.000000</td>\n",
       "      <td>568.900024</td>\n",
       "      <td>570.200012</td>\n",
       "      <td>559.789856</td>\n",
       "      <td>10438589</td>\n",
       "    </tr>\n",
       "    <tr>\n",
       "      <th>2020-05-14</th>\n",
       "      <td>571.000000</td>\n",
       "      <td>577.900024</td>\n",
       "      <td>566.099976</td>\n",
       "      <td>569.750000</td>\n",
       "      <td>559.348022</td>\n",
       "      <td>8546002</td>\n",
       "    </tr>\n",
       "    <tr>\n",
       "      <th>2020-05-15</th>\n",
       "      <td>572.000000</td>\n",
       "      <td>585.000000</td>\n",
       "      <td>565.599976</td>\n",
       "      <td>570.299988</td>\n",
       "      <td>559.887939</td>\n",
       "      <td>14388403</td>\n",
       "    </tr>\n",
       "    <tr>\n",
       "      <th>2020-05-18</th>\n",
       "      <td>570.599976</td>\n",
       "      <td>605.000000</td>\n",
       "      <td>570.500000</td>\n",
       "      <td>600.450012</td>\n",
       "      <td>589.487549</td>\n",
       "      <td>22898114</td>\n",
       "    </tr>\n",
       "    <tr>\n",
       "      <th>2020-05-19</th>\n",
       "      <td>600.000000</td>\n",
       "      <td>608.799988</td>\n",
       "      <td>590.200012</td>\n",
       "      <td>594.950012</td>\n",
       "      <td>584.087952</td>\n",
       "      <td>10951060</td>\n",
       "    </tr>\n",
       "    <tr>\n",
       "      <th>2020-05-20</th>\n",
       "      <td>597.000000</td>\n",
       "      <td>624.349976</td>\n",
       "      <td>595.400024</td>\n",
       "      <td>620.650024</td>\n",
       "      <td>609.318787</td>\n",
       "      <td>13440063</td>\n",
       "    </tr>\n",
       "    <tr>\n",
       "      <th>2020-05-21</th>\n",
       "      <td>620.650024</td>\n",
       "      <td>626.849976</td>\n",
       "      <td>612.299988</td>\n",
       "      <td>616.599976</td>\n",
       "      <td>605.342712</td>\n",
       "      <td>7916771</td>\n",
       "    </tr>\n",
       "    <tr>\n",
       "      <th>2020-05-22</th>\n",
       "      <td>616.700012</td>\n",
       "      <td>641.849976</td>\n",
       "      <td>610.099976</td>\n",
       "      <td>639.349976</td>\n",
       "      <td>627.677368</td>\n",
       "      <td>10874832</td>\n",
       "    </tr>\n",
       "    <tr>\n",
       "      <th>2020-05-26</th>\n",
       "      <td>640.000000</td>\n",
       "      <td>646.900024</td>\n",
       "      <td>624.049988</td>\n",
       "      <td>627.700012</td>\n",
       "      <td>616.240112</td>\n",
       "      <td>8859302</td>\n",
       "    </tr>\n",
       "    <tr>\n",
       "      <th>2020-05-27</th>\n",
       "      <td>630.000000</td>\n",
       "      <td>637.799988</td>\n",
       "      <td>625.799988</td>\n",
       "      <td>633.049988</td>\n",
       "      <td>621.492371</td>\n",
       "      <td>7710100</td>\n",
       "    </tr>\n",
       "    <tr>\n",
       "      <th>2020-05-28</th>\n",
       "      <td>634.000000</td>\n",
       "      <td>637.650024</td>\n",
       "      <td>626.049988</td>\n",
       "      <td>628.349976</td>\n",
       "      <td>616.878174</td>\n",
       "      <td>5488625</td>\n",
       "    </tr>\n",
       "    <tr>\n",
       "      <th>2020-05-29</th>\n",
       "      <td>633.000000</td>\n",
       "      <td>650.950012</td>\n",
       "      <td>631.000000</td>\n",
       "      <td>648.150024</td>\n",
       "      <td>636.316711</td>\n",
       "      <td>10580203</td>\n",
       "    </tr>\n",
       "    <tr>\n",
       "      <th>2020-06-01</th>\n",
       "      <td>649.000000</td>\n",
       "      <td>652.599976</td>\n",
       "      <td>634.549988</td>\n",
       "      <td>642.500000</td>\n",
       "      <td>630.769836</td>\n",
       "      <td>7439123</td>\n",
       "    </tr>\n",
       "    <tr>\n",
       "      <th>2020-06-02</th>\n",
       "      <td>644.900024</td>\n",
       "      <td>658.650024</td>\n",
       "      <td>636.000000</td>\n",
       "      <td>637.599976</td>\n",
       "      <td>625.959290</td>\n",
       "      <td>6883363</td>\n",
       "    </tr>\n",
       "    <tr>\n",
       "      <th>2020-06-03</th>\n",
       "      <td>646.849976</td>\n",
       "      <td>649.500000</td>\n",
       "      <td>635.299988</td>\n",
       "      <td>641.200012</td>\n",
       "      <td>629.493591</td>\n",
       "      <td>5044700</td>\n",
       "    </tr>\n",
       "    <tr>\n",
       "      <th>2020-06-04</th>\n",
       "      <td>643.000000</td>\n",
       "      <td>664.799988</td>\n",
       "      <td>642.500000</td>\n",
       "      <td>660.549988</td>\n",
       "      <td>648.490356</td>\n",
       "      <td>10452388</td>\n",
       "    </tr>\n",
       "    <tr>\n",
       "      <th>2020-06-05</th>\n",
       "      <td>665.000000</td>\n",
       "      <td>669.750000</td>\n",
       "      <td>649.000000</td>\n",
       "      <td>650.900024</td>\n",
       "      <td>639.016541</td>\n",
       "      <td>6481383</td>\n",
       "    </tr>\n",
       "  </tbody>\n",
       "</table>\n",
       "</div>"
      ],
      "text/plain": [
       "                  Open        High         Low       Close   Adj Close  \\\n",
       "Date                                                                     \n",
       "2020-05-11  600.950012  600.950012  583.450012  586.049988  575.350464   \n",
       "2020-05-12  587.000000  593.799988  566.200012  570.150024  559.740784   \n",
       "2020-05-13  600.000000  605.000000  568.900024  570.200012  559.789856   \n",
       "2020-05-14  571.000000  577.900024  566.099976  569.750000  559.348022   \n",
       "2020-05-15  572.000000  585.000000  565.599976  570.299988  559.887939   \n",
       "2020-05-18  570.599976  605.000000  570.500000  600.450012  589.487549   \n",
       "2020-05-19  600.000000  608.799988  590.200012  594.950012  584.087952   \n",
       "2020-05-20  597.000000  624.349976  595.400024  620.650024  609.318787   \n",
       "2020-05-21  620.650024  626.849976  612.299988  616.599976  605.342712   \n",
       "2020-05-22  616.700012  641.849976  610.099976  639.349976  627.677368   \n",
       "2020-05-26  640.000000  646.900024  624.049988  627.700012  616.240112   \n",
       "2020-05-27  630.000000  637.799988  625.799988  633.049988  621.492371   \n",
       "2020-05-28  634.000000  637.650024  626.049988  628.349976  616.878174   \n",
       "2020-05-29  633.000000  650.950012  631.000000  648.150024  636.316711   \n",
       "2020-06-01  649.000000  652.599976  634.549988  642.500000  630.769836   \n",
       "2020-06-02  644.900024  658.650024  636.000000  637.599976  625.959290   \n",
       "2020-06-03  646.849976  649.500000  635.299988  641.200012  629.493591   \n",
       "2020-06-04  643.000000  664.799988  642.500000  660.549988  648.490356   \n",
       "2020-06-05  665.000000  669.750000  649.000000  650.900024  639.016541   \n",
       "\n",
       "              Volume  \n",
       "Date                  \n",
       "2020-05-11   5853892  \n",
       "2020-05-12   8868938  \n",
       "2020-05-13  10438589  \n",
       "2020-05-14   8546002  \n",
       "2020-05-15  14388403  \n",
       "2020-05-18  22898114  \n",
       "2020-05-19  10951060  \n",
       "2020-05-20  13440063  \n",
       "2020-05-21   7916771  \n",
       "2020-05-22  10874832  \n",
       "2020-05-26   8859302  \n",
       "2020-05-27   7710100  \n",
       "2020-05-28   5488625  \n",
       "2020-05-29  10580203  \n",
       "2020-06-01   7439123  \n",
       "2020-06-02   6883363  \n",
       "2020-06-03   5044700  \n",
       "2020-06-04  10452388  \n",
       "2020-06-05   6481383  "
      ]
     },
     "execution_count": 54,
     "metadata": {},
     "output_type": "execute_result"
    }
   ],
   "source": [
    "df"
   ]
  },
  {
   "cell_type": "code",
   "execution_count": 81,
   "metadata": {},
   "outputs": [],
   "source": [
    "def pre_process(data):\n",
    "    data.index = data.index.astype(str)\n",
    "    start = data.loc[data['Open'] > 500].index[0]\n",
    "    end = get_next_month(start)\n",
    "    monthly = data.loc[start: end]\n",
    "    high_idx, low_idx = monthly['High'].argmax(), monthly['Low'].argmin()\n",
    "    trend = \"up\" if high_idx < low_idx else 'down'\n",
    "    return data.iloc[monthly.shape[0]:], monthly.iloc[high_idx], monthly.iloc[low_idx], trend"
   ]
  },
  {
   "cell_type": "code",
   "execution_count": 82,
   "metadata": {},
   "outputs": [],
   "source": [
    "df1, high, low, trend = pre_process(data)"
   ]
  },
  {
   "cell_type": "code",
   "execution_count": 83,
   "metadata": {},
   "outputs": [
    {
     "data": {
      "text/html": [
       "<div>\n",
       "<style scoped>\n",
       "    .dataframe tbody tr th:only-of-type {\n",
       "        vertical-align: middle;\n",
       "    }\n",
       "\n",
       "    .dataframe tbody tr th {\n",
       "        vertical-align: top;\n",
       "    }\n",
       "\n",
       "    .dataframe thead th {\n",
       "        text-align: right;\n",
       "    }\n",
       "</style>\n",
       "<table border=\"1\" class=\"dataframe\">\n",
       "  <thead>\n",
       "    <tr style=\"text-align: right;\">\n",
       "      <th></th>\n",
       "      <th>Open</th>\n",
       "      <th>High</th>\n",
       "      <th>Low</th>\n",
       "      <th>Close</th>\n",
       "      <th>Adj Close</th>\n",
       "      <th>Volume</th>\n",
       "    </tr>\n",
       "    <tr>\n",
       "      <th>Date</th>\n",
       "      <th></th>\n",
       "      <th></th>\n",
       "      <th></th>\n",
       "      <th></th>\n",
       "      <th></th>\n",
       "      <th></th>\n",
       "    </tr>\n",
       "  </thead>\n",
       "  <tbody>\n",
       "    <tr>\n",
       "      <th>2018-03-05</th>\n",
       "      <td>582.099976</td>\n",
       "      <td>585.000000</td>\n",
       "      <td>578.049988</td>\n",
       "      <td>579.250000</td>\n",
       "      <td>561.205017</td>\n",
       "      <td>1179725</td>\n",
       "    </tr>\n",
       "    <tr>\n",
       "      <th>2018-03-06</th>\n",
       "      <td>581.599976</td>\n",
       "      <td>589.400024</td>\n",
       "      <td>580.049988</td>\n",
       "      <td>584.099976</td>\n",
       "      <td>565.903870</td>\n",
       "      <td>1891302</td>\n",
       "    </tr>\n",
       "    <tr>\n",
       "      <th>2018-03-07</th>\n",
       "      <td>587.450012</td>\n",
       "      <td>589.099976</td>\n",
       "      <td>578.200012</td>\n",
       "      <td>580.200012</td>\n",
       "      <td>562.125366</td>\n",
       "      <td>1849650</td>\n",
       "    </tr>\n",
       "    <tr>\n",
       "      <th>2018-03-08</th>\n",
       "      <td>584.000000</td>\n",
       "      <td>584.000000</td>\n",
       "      <td>574.000000</td>\n",
       "      <td>578.000000</td>\n",
       "      <td>559.993958</td>\n",
       "      <td>1084582</td>\n",
       "    </tr>\n",
       "    <tr>\n",
       "      <th>2018-03-09</th>\n",
       "      <td>579.950012</td>\n",
       "      <td>585.200012</td>\n",
       "      <td>568.049988</td>\n",
       "      <td>571.049988</td>\n",
       "      <td>553.260376</td>\n",
       "      <td>1149194</td>\n",
       "    </tr>\n",
       "    <tr>\n",
       "      <th>...</th>\n",
       "      <td>...</td>\n",
       "      <td>...</td>\n",
       "      <td>...</td>\n",
       "      <td>...</td>\n",
       "      <td>...</td>\n",
       "      <td>...</td>\n",
       "    </tr>\n",
       "    <tr>\n",
       "      <th>2024-06-14</th>\n",
       "      <td>1545.000000</td>\n",
       "      <td>1567.000000</td>\n",
       "      <td>1535.800049</td>\n",
       "      <td>1564.750000</td>\n",
       "      <td>1564.750000</td>\n",
       "      <td>1845043</td>\n",
       "    </tr>\n",
       "    <tr>\n",
       "      <th>2024-06-18</th>\n",
       "      <td>1570.000000</td>\n",
       "      <td>1576.949951</td>\n",
       "      <td>1563.599976</td>\n",
       "      <td>1574.800049</td>\n",
       "      <td>1574.800049</td>\n",
       "      <td>2068897</td>\n",
       "    </tr>\n",
       "    <tr>\n",
       "      <th>2024-06-19</th>\n",
       "      <td>1577.400024</td>\n",
       "      <td>1582.000000</td>\n",
       "      <td>1553.400024</td>\n",
       "      <td>1559.800049</td>\n",
       "      <td>1559.800049</td>\n",
       "      <td>1881544</td>\n",
       "    </tr>\n",
       "    <tr>\n",
       "      <th>2024-06-20</th>\n",
       "      <td>1558.000000</td>\n",
       "      <td>1559.150024</td>\n",
       "      <td>1540.000000</td>\n",
       "      <td>1544.849976</td>\n",
       "      <td>1544.849976</td>\n",
       "      <td>1705002</td>\n",
       "    </tr>\n",
       "    <tr>\n",
       "      <th>2024-06-21</th>\n",
       "      <td>1549.900024</td>\n",
       "      <td>1562.900024</td>\n",
       "      <td>1533.500000</td>\n",
       "      <td>1535.099976</td>\n",
       "      <td>1535.099976</td>\n",
       "      <td>2609071</td>\n",
       "    </tr>\n",
       "  </tbody>\n",
       "</table>\n",
       "<p>1554 rows × 6 columns</p>\n",
       "</div>"
      ],
      "text/plain": [
       "                   Open         High          Low        Close    Adj Close  \\\n",
       "Date                                                                          \n",
       "2018-03-05   582.099976   585.000000   578.049988   579.250000   561.205017   \n",
       "2018-03-06   581.599976   589.400024   580.049988   584.099976   565.903870   \n",
       "2018-03-07   587.450012   589.099976   578.200012   580.200012   562.125366   \n",
       "2018-03-08   584.000000   584.000000   574.000000   578.000000   559.993958   \n",
       "2018-03-09   579.950012   585.200012   568.049988   571.049988   553.260376   \n",
       "...                 ...          ...          ...          ...          ...   \n",
       "2024-06-14  1545.000000  1567.000000  1535.800049  1564.750000  1564.750000   \n",
       "2024-06-18  1570.000000  1576.949951  1563.599976  1574.800049  1574.800049   \n",
       "2024-06-19  1577.400024  1582.000000  1553.400024  1559.800049  1559.800049   \n",
       "2024-06-20  1558.000000  1559.150024  1540.000000  1544.849976  1544.849976   \n",
       "2024-06-21  1549.900024  1562.900024  1533.500000  1535.099976  1535.099976   \n",
       "\n",
       "             Volume  \n",
       "Date                 \n",
       "2018-03-05  1179725  \n",
       "2018-03-06  1891302  \n",
       "2018-03-07  1849650  \n",
       "2018-03-08  1084582  \n",
       "2018-03-09  1149194  \n",
       "...             ...  \n",
       "2024-06-14  1845043  \n",
       "2024-06-18  2068897  \n",
       "2024-06-19  1881544  \n",
       "2024-06-20  1705002  \n",
       "2024-06-21  2609071  \n",
       "\n",
       "[1554 rows x 6 columns]"
      ]
     },
     "execution_count": 83,
     "metadata": {},
     "output_type": "execute_result"
    }
   ],
   "source": [
    "df1"
   ]
  },
  {
   "cell_type": "code",
   "execution_count": 84,
   "metadata": {},
   "outputs": [],
   "source": [
    "data, high, low, trend = pre_process(data.loc['2018-02-01':])"
   ]
  },
  {
   "cell_type": "code",
   "execution_count": 88,
   "metadata": {},
   "outputs": [
    {
     "data": {
      "text/plain": [
       "'down'"
      ]
     },
     "execution_count": 88,
     "metadata": {},
     "output_type": "execute_result"
    }
   ],
   "source": [
    "trend"
   ]
  },
  {
   "cell_type": "code",
   "execution_count": 101,
   "metadata": {},
   "outputs": [],
   "source": [
    "from main import *"
   ]
  },
  {
   "cell_type": "code",
   "execution_count": 102,
   "metadata": {},
   "outputs": [],
   "source": [
    "swing = Swing(day_low=low, day_high=high, trend=trend, margin=1000000.0)"
   ]
  },
  {
   "cell_type": "code",
   "execution_count": 103,
   "metadata": {},
   "outputs": [
    {
     "ename": "KeyError",
     "evalue": "'high'",
     "output_type": "error",
     "traceback": [
      "\u001b[0;31m---------------------------------------------------------------------------\u001b[0m",
      "\u001b[0;31mKeyError\u001b[0m                                  Traceback (most recent call last)",
      "File \u001b[0;32m~/anaconda3/lib/python3.10/site-packages/pandas/core/indexes/base.py:3653\u001b[0m, in \u001b[0;36mIndex.get_loc\u001b[0;34m(self, key)\u001b[0m\n\u001b[1;32m   3652\u001b[0m \u001b[38;5;28;01mtry\u001b[39;00m:\n\u001b[0;32m-> 3653\u001b[0m     \u001b[38;5;28;01mreturn\u001b[39;00m \u001b[38;5;28;43mself\u001b[39;49m\u001b[38;5;241;43m.\u001b[39;49m\u001b[43m_engine\u001b[49m\u001b[38;5;241;43m.\u001b[39;49m\u001b[43mget_loc\u001b[49m\u001b[43m(\u001b[49m\u001b[43mcasted_key\u001b[49m\u001b[43m)\u001b[49m\n\u001b[1;32m   3654\u001b[0m \u001b[38;5;28;01mexcept\u001b[39;00m \u001b[38;5;167;01mKeyError\u001b[39;00m \u001b[38;5;28;01mas\u001b[39;00m err:\n",
      "File \u001b[0;32m~/anaconda3/lib/python3.10/site-packages/pandas/_libs/index.pyx:147\u001b[0m, in \u001b[0;36mpandas._libs.index.IndexEngine.get_loc\u001b[0;34m()\u001b[0m\n",
      "File \u001b[0;32m~/anaconda3/lib/python3.10/site-packages/pandas/_libs/index.pyx:176\u001b[0m, in \u001b[0;36mpandas._libs.index.IndexEngine.get_loc\u001b[0;34m()\u001b[0m\n",
      "File \u001b[0;32mpandas/_libs/hashtable_class_helper.pxi:7080\u001b[0m, in \u001b[0;36mpandas._libs.hashtable.PyObjectHashTable.get_item\u001b[0;34m()\u001b[0m\n",
      "File \u001b[0;32mpandas/_libs/hashtable_class_helper.pxi:7088\u001b[0m, in \u001b[0;36mpandas._libs.hashtable.PyObjectHashTable.get_item\u001b[0;34m()\u001b[0m\n",
      "\u001b[0;31mKeyError\u001b[0m: 'high'",
      "\nThe above exception was the direct cause of the following exception:\n",
      "\u001b[0;31mKeyError\u001b[0m                                  Traceback (most recent call last)",
      "Cell \u001b[0;32mIn[103], line 9\u001b[0m\n\u001b[1;32m      7\u001b[0m swing\u001b[38;5;241m.\u001b[39mplace_order(curr_day, Qty\u001b[38;5;241m=\u001b[39mQty, stoploss_threshold\u001b[38;5;241m=\u001b[39mstoploss_threshold, target_threshold\u001b[38;5;241m=\u001b[39mtarget_threshold)\n\u001b[1;32m      8\u001b[0m \u001b[38;5;66;03m#check trend update\u001b[39;00m\n\u001b[0;32m----> 9\u001b[0m \u001b[43mswing\u001b[49m\u001b[38;5;241;43m.\u001b[39;49m\u001b[43mupdate_trend\u001b[49m\u001b[43m(\u001b[49m\u001b[43mcurr_day\u001b[49m\u001b[43m)\u001b[49m\n\u001b[1;32m     10\u001b[0m \u001b[38;5;66;03m#check indicator\u001b[39;00m\n\u001b[1;32m     11\u001b[0m swing\u001b[38;5;241m.\u001b[39mcheck_indicator(curr_day)\n",
      "File \u001b[0;32m~/playground/pystuff/fin/streamy/swing/main.py:49\u001b[0m, in \u001b[0;36mupdate_trend\u001b[0;34m(self, day_data)\u001b[0m\n\u001b[1;32m     47\u001b[0m \u001b[38;5;28;01mdef\u001b[39;00m \u001b[38;5;21mupdate_trend\u001b[39m(\u001b[38;5;28mself\u001b[39m, day_data):\n\u001b[1;32m     48\u001b[0m     \u001b[38;5;28;01mif\u001b[39;00m day_data[\u001b[38;5;124m'\u001b[39m\u001b[38;5;124mhigh\u001b[39m\u001b[38;5;124m'\u001b[39m] \u001b[38;5;241m>\u001b[39m \u001b[38;5;28mself\u001b[39m\u001b[38;5;241m.\u001b[39mday_high[\u001b[38;5;124m'\u001b[39m\u001b[38;5;124mhigh\u001b[39m\u001b[38;5;124m'\u001b[39m]:\n\u001b[0;32m---> 49\u001b[0m         \u001b[38;5;28;01mif\u001b[39;00m \u001b[38;5;28mself\u001b[39m\u001b[38;5;241m.\u001b[39morder:\n\u001b[1;32m     50\u001b[0m             \u001b[38;5;28mself\u001b[39m\u001b[38;5;241m.\u001b[39m_cancel_running_order(\n\u001b[1;32m     51\u001b[0m                 day_data[\u001b[38;5;124m'\u001b[39m\u001b[38;5;124mHigh\u001b[39m\u001b[38;5;124m'\u001b[39m], date\u001b[38;5;241m=\u001b[39mday_data\u001b[38;5;241m.\u001b[39mindex)\n\u001b[1;32m     52\u001b[0m         \u001b[38;5;28mself\u001b[39m\u001b[38;5;241m.\u001b[39mtrend \u001b[38;5;241m=\u001b[39m \u001b[38;5;124m'\u001b[39m\u001b[38;5;124mdown\u001b[39m\u001b[38;5;124m'\u001b[39m\n",
      "File \u001b[0;32m~/anaconda3/lib/python3.10/site-packages/pandas/core/series.py:1007\u001b[0m, in \u001b[0;36mSeries.__getitem__\u001b[0;34m(self, key)\u001b[0m\n\u001b[1;32m   1004\u001b[0m     \u001b[38;5;28;01mreturn\u001b[39;00m \u001b[38;5;28mself\u001b[39m\u001b[38;5;241m.\u001b[39m_values[key]\n\u001b[1;32m   1006\u001b[0m \u001b[38;5;28;01melif\u001b[39;00m key_is_scalar:\n\u001b[0;32m-> 1007\u001b[0m     \u001b[38;5;28;01mreturn\u001b[39;00m \u001b[38;5;28;43mself\u001b[39;49m\u001b[38;5;241;43m.\u001b[39;49m\u001b[43m_get_value\u001b[49m\u001b[43m(\u001b[49m\u001b[43mkey\u001b[49m\u001b[43m)\u001b[49m\n\u001b[1;32m   1009\u001b[0m \u001b[38;5;28;01mif\u001b[39;00m is_hashable(key):\n\u001b[1;32m   1010\u001b[0m     \u001b[38;5;66;03m# Otherwise index.get_value will raise InvalidIndexError\u001b[39;00m\n\u001b[1;32m   1011\u001b[0m     \u001b[38;5;28;01mtry\u001b[39;00m:\n\u001b[1;32m   1012\u001b[0m         \u001b[38;5;66;03m# For labels that don't resolve as scalars like tuples and frozensets\u001b[39;00m\n",
      "File \u001b[0;32m~/anaconda3/lib/python3.10/site-packages/pandas/core/series.py:1116\u001b[0m, in \u001b[0;36mSeries._get_value\u001b[0;34m(self, label, takeable)\u001b[0m\n\u001b[1;32m   1113\u001b[0m     \u001b[38;5;28;01mreturn\u001b[39;00m \u001b[38;5;28mself\u001b[39m\u001b[38;5;241m.\u001b[39m_values[label]\n\u001b[1;32m   1115\u001b[0m \u001b[38;5;66;03m# Similar to Index.get_value, but we do not fall back to positional\u001b[39;00m\n\u001b[0;32m-> 1116\u001b[0m loc \u001b[38;5;241m=\u001b[39m \u001b[38;5;28;43mself\u001b[39;49m\u001b[38;5;241;43m.\u001b[39;49m\u001b[43mindex\u001b[49m\u001b[38;5;241;43m.\u001b[39;49m\u001b[43mget_loc\u001b[49m\u001b[43m(\u001b[49m\u001b[43mlabel\u001b[49m\u001b[43m)\u001b[49m\n\u001b[1;32m   1118\u001b[0m \u001b[38;5;28;01mif\u001b[39;00m is_integer(loc):\n\u001b[1;32m   1119\u001b[0m     \u001b[38;5;28;01mreturn\u001b[39;00m \u001b[38;5;28mself\u001b[39m\u001b[38;5;241m.\u001b[39m_values[loc]\n",
      "File \u001b[0;32m~/anaconda3/lib/python3.10/site-packages/pandas/core/indexes/base.py:3655\u001b[0m, in \u001b[0;36mIndex.get_loc\u001b[0;34m(self, key)\u001b[0m\n\u001b[1;32m   3653\u001b[0m     \u001b[38;5;28;01mreturn\u001b[39;00m \u001b[38;5;28mself\u001b[39m\u001b[38;5;241m.\u001b[39m_engine\u001b[38;5;241m.\u001b[39mget_loc(casted_key)\n\u001b[1;32m   3654\u001b[0m \u001b[38;5;28;01mexcept\u001b[39;00m \u001b[38;5;167;01mKeyError\u001b[39;00m \u001b[38;5;28;01mas\u001b[39;00m err:\n\u001b[0;32m-> 3655\u001b[0m     \u001b[38;5;28;01mraise\u001b[39;00m \u001b[38;5;167;01mKeyError\u001b[39;00m(key) \u001b[38;5;28;01mfrom\u001b[39;00m \u001b[38;5;21;01merr\u001b[39;00m\n\u001b[1;32m   3656\u001b[0m \u001b[38;5;28;01mexcept\u001b[39;00m \u001b[38;5;167;01mTypeError\u001b[39;00m:\n\u001b[1;32m   3657\u001b[0m     \u001b[38;5;66;03m# If we have a listlike key, _check_indexing_error will raise\u001b[39;00m\n\u001b[1;32m   3658\u001b[0m     \u001b[38;5;66;03m#  InvalidIndexError. Otherwise we fall through and re-raise\u001b[39;00m\n\u001b[1;32m   3659\u001b[0m     \u001b[38;5;66;03m#  the TypeError.\u001b[39;00m\n\u001b[1;32m   3660\u001b[0m     \u001b[38;5;28mself\u001b[39m\u001b[38;5;241m.\u001b[39m_check_indexing_error(key)\n",
      "\u001b[0;31mKeyError\u001b[0m: 'high'"
     ]
    }
   ],
   "source": [
    "Qty = 500\n",
    "target_threshold = 25\n",
    "stoploss_threshold = 10\n",
    "for i in range(data.shape[0]):\n",
    "    curr_day = data.iloc[i]\n",
    "    #can place order\n",
    "    swing.place_order(curr_day, Qty=Qty, stoploss_threshold=stoploss_threshold, target_threshold=target_threshold)\n",
    "    #check trend update\n",
    "    swing.update_trend(curr_day)\n",
    "    #check indicator\n",
    "    swing.check_indicator(curr_day)\n",
    "    #watch holdings\n",
    "    swing.watch_holdings(curr_day)\n",
    "\n",
    "\n",
    "\n"
   ]
  },
  {
   "cell_type": "code",
   "execution_count": null,
   "metadata": {},
   "outputs": [],
   "source": []
  }
 ],
 "metadata": {
  "language_info": {
   "name": "python"
  }
 },
 "nbformat": 4,
 "nbformat_minor": 2
}
